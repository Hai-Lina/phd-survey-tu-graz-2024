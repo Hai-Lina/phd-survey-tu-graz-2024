{
 "cells": [
  {
   "cell_type": "markdown",
   "id": "f12e4a5f-a94d-48a1-a654-da0403ce4326",
   "metadata": {},
   "source": [
    "## PhD Survey: Results harassment experiences"
   ]
  },
  {
   "cell_type": "code",
   "execution_count": 1,
   "id": "a15905ad-3698-4f69-a4b3-86a3c377e8f6",
   "metadata": {},
   "outputs": [],
   "source": [
    "import os\n",
    "import pandas as pd\n",
    "import numpy as np\n",
    "import matplotlib.pyplot as plt"
   ]
  },
  {
   "cell_type": "code",
   "execution_count": 2,
   "id": "5d497fb2-9c3a-489b-a0f5-79b37888616d",
   "metadata": {},
   "outputs": [],
   "source": [
    "import warnings\n",
    "warnings.filterwarnings(\"ignore\")"
   ]
  },
  {
   "cell_type": "markdown",
   "id": "87721ed0-12cc-4980-bce7-906085abac93",
   "metadata": {},
   "source": [
    "### Read clean data"
   ]
  },
  {
   "cell_type": "code",
   "execution_count": 3,
   "id": "9d3873bf-195d-42a5-8475-9ab414f87fd1",
   "metadata": {},
   "outputs": [],
   "source": [
    "# data = pd.read_csv(\"phd-survey-data-clean.csv\", sep=\";\")\n",
    "data = pd.read_csv(\"mock-data.csv\", sep=\";\")"
   ]
  },
  {
   "cell_type": "markdown",
   "id": "166828d3-9faa-4a89-90df-bf880f91ab85",
   "metadata": {},
   "source": [
    "### Harassment numbers"
   ]
  },
  {
   "cell_type": "code",
   "execution_count": 4,
   "id": "2c57ac2b-f7a1-4010-9e99-4dfe1f2d7cd2",
   "metadata": {},
   "outputs": [
    {
     "name": "stdout",
     "output_type": "stream",
     "text": [
      "HARASSMENT EXPERIENCES\n",
      "Total: 48, 1 in 2\n",
      "Women: 9, 1 in 2\n",
      "Men: 12, 1 in 2\n"
     ]
    }
   ],
   "source": [
    "print(\"HARASSMENT EXPERIENCES\")\n",
    "print(f\"Total: {data.harass_exp_YN.to_list().count(\"Yes\")}, 1 in {int(len(data)/data.harass_exp_YN.to_list().count(\"Yes\"))}\")\n",
    "print(f\"Women: {data[data.gender == \"Woman\"].harass_exp_YN.to_list().count(\"Yes\")}, 1 in {\n",
    "                int(len(data[data.gender == \"Woman\"])/data[data.gender == \"Woman\"].harass_exp_YN.to_list().count(\"Yes\"))}\")\n",
    "print(f\"Men: {data[data.gender == \"Man\"].harass_exp_YN.to_list().count(\"Yes\")}, 1 in {\n",
    "              int(len(data[data.gender == \"Man\"])/data[data.gender == \"Man\"].harass_exp_YN.to_list().count(\"Yes\"))}\")"
   ]
  },
  {
   "cell_type": "code",
   "execution_count": 5,
   "id": "06758a5e-2436-4b50-8955-f2f78a83d1db",
   "metadata": {},
   "outputs": [
    {
     "name": "stdout",
     "output_type": "stream",
     "text": [
      "WITNESSING HARASSMENT\n",
      "Total: 50, 1 in 2\n"
     ]
    }
   ],
   "source": [
    "print(\"WITNESSING HARASSMENT\")\n",
    "print(f\"Total: {data.harass_witness_YN.to_list().count(\"Yes\")}, 1 in {int(len(data)/data.harass_witness_YN.to_list().count(\"Yes\"))}\")"
   ]
  },
  {
   "cell_type": "code",
   "execution_count": 6,
   "id": "f6e3538d-bc49-456d-975b-00b210a020f0",
   "metadata": {},
   "outputs": [
    {
     "name": "stdout",
     "output_type": "stream",
     "text": [
      "REASONS FOR HARASSMENT\n",
      "harass_disability: 56\n",
      "harass_religion: 55\n",
      "harass_socoec: 53\n",
      "harass_height: 51\n",
      "harass_sexualorient: 51\n",
      "harass_notsay: 50\n",
      "harass_gender: 49\n",
      "harass_physicalother: 49\n",
      "harass_weight: 48\n",
      "harass_age: 47\n",
      "harass_race: 45\n",
      "harass_nationality: 43\n"
     ]
    }
   ],
   "source": [
    "char_dict = dict()\n",
    "\n",
    "for characteristic in [\"harass_nationality\", \"harass_gender\", \"harass_race\", \"harass_age\", \"harass_religion\",\n",
    "                       \"harass_height\", \"harass_weight\", \"harass_physicalother\", \"harass_sexualorient\", \"harass_socoec\",\n",
    "                       \"harass_disability\", \"harass_notsay\"]:\n",
    "    char_dict[characteristic] = data[characteristic].dropna().to_list().count(\"Yes\")\n",
    "\n",
    "char_dict_sorted = {k: v for k, v in sorted(char_dict.items(), key=lambda item: item[1], reverse=True)}\n",
    "\n",
    "print(\"REASONS FOR HARASSMENT\")\n",
    "for i in char_dict_sorted:\n",
    "    print(f\"{i}: {char_dict_sorted[i]}\")"
   ]
  },
  {
   "cell_type": "code",
   "execution_count": 7,
   "id": "b98e32e5-e3fb-4dee-bb93-97c0355bc2b0",
   "metadata": {},
   "outputs": [
    {
     "name": "stdout",
     "output_type": "stream",
     "text": [
      "JOBLOSS THREAT\n",
      "Total: 51, 1 in 1\n",
      "Women: 14, 1 in 1\n",
      "Men: 12, 1 in 2\n",
      "Austria/Germany: 32, 1 in 1\n",
      "International: 19, 1 in 2\n"
     ]
    }
   ],
   "source": [
    "print(\"JOBLOSS THREAT\")\n",
    "print(f\"Total: {data.jobloss_threat.to_list().count(\"Yes\")}, 1 in {int(len(data)/data.jobloss_threat.to_list().count(\"Yes\"))}\")\n",
    "print(f\"Women: {data[data.gender == \"Woman\"].jobloss_threat.to_list().count(\"Yes\")}, 1 in {\n",
    "                int(len(data[data.gender == \"Woman\"])/data[data.gender == \"Woman\"].jobloss_threat.to_list().count(\"Yes\"))}\")\n",
    "print(f\"Men: {data[data.gender == \"Man\"].jobloss_threat.to_list().count(\"Yes\")}, 1 in {\n",
    "              int(len(data[data.gender == \"Man\"])/data[data.gender == \"Man\"].jobloss_threat.to_list().count(\"Yes\"))}\")\n",
    "print(f\"Austria/Germany: {data[data.nationality_new != \"International\"].jobloss_threat.to_list().count(\"Yes\")}, 1 in {\n",
    "                          int(len(data[data.nationality_new != \"International\"]\n",
    "                                 )/data[data.nationality_new != \"International\"].jobloss_threat.to_list().count(\"Yes\"))}\")\n",
    "print(f\"International: {data[data.nationality_new == \"International\"].jobloss_threat.to_list().count(\"Yes\")}, 1 in {\n",
    "                        int(len(data[data.nationality_new == \"International\"]\n",
    "                               )/data[data.nationality_new == \"International\"].jobloss_threat.to_list().count(\"Yes\"))}\")"
   ]
  },
  {
   "cell_type": "code",
   "execution_count": 8,
   "id": "7ea5848c-7549-46f9-871e-830658d8f683",
   "metadata": {},
   "outputs": [
    {
     "name": "stdout",
     "output_type": "stream",
     "text": [
      "INTERNATIONAL BACKGROUND TO PRESSURE\n",
      "Total: 17\n"
     ]
    }
   ],
   "source": [
    "print(\"INTERNATIONAL BACKGROUND TO PRESSURE\")\n",
    "print(f\"Total: {data.international_pressure.dropna().to_list().count(\"Yes\")}\")"
   ]
  },
  {
   "cell_type": "code",
   "execution_count": null,
   "id": "f595eff8-af36-40f2-8df4-c4388762eba5",
   "metadata": {},
   "outputs": [],
   "source": []
  }
 ],
 "metadata": {
  "kernelspec": {
   "display_name": "Python 3 (ipykernel)",
   "language": "python",
   "name": "python3"
  },
  "language_info": {
   "codemirror_mode": {
    "name": "ipython",
    "version": 3
   },
   "file_extension": ".py",
   "mimetype": "text/x-python",
   "name": "python",
   "nbconvert_exporter": "python",
   "pygments_lexer": "ipython3",
   "version": "3.13.2"
  }
 },
 "nbformat": 4,
 "nbformat_minor": 5
}
